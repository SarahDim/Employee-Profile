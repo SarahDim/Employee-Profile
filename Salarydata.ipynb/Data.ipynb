{
 "cells": [
  {
   "cell_type": "code",
   "execution_count": 1,
   "id": "4608252d",
   "metadata": {},
   "outputs": [
    {
     "name": "stderr",
     "output_type": "stream",
     "text": [
      "C:\\Users\\ADMIN\\AppData\\Local\\Temp\\ipykernel_12308\\3408413143.py:10: DtypeWarning: Columns (2,3,4,5) have mixed types. Specify dtype option on import or set low_memory=False.\n",
      "  staff_df = pd.read_csv(input)\n"
     ]
    }
   ],
   "source": [
    "#Step1 - Import Data\n",
    "import pandas as pd\n",
    "import zipfile\n",
    "import os \n",
    "import shutil\n",
    "from collections import defaultdict\n",
    "\n",
    "try:\n",
    "    input = \"Total.csv\"\n",
    "    staff_df = pd.read_csv(input)\n",
    "    staff_df.head()\n",
    "except FileNotFoundError:\n",
    "    print(f\"No file found\")"
   ]
  },
  {
   "cell_type": "code",
   "execution_count": 2,
   "id": "cfde24a8",
   "metadata": {},
   "outputs": [],
   "source": [
    "#Step2 - Process Data with dictionary\n",
    "staff_dict = defaultdict(list)\n",
    "for _, row in staff_df.iterrows():\n",
    "    staff_dict[row[\"EmployeeName\"].lower()].append(row.to_dict())"
   ]
  },
  {
   "cell_type": "code",
   "execution_count": 3,
   "id": "0b29b66e",
   "metadata": {},
   "outputs": [],
   "source": [
    "#Step 3 - Creating An Employee Function\n",
    "def fetch_employees(employee_name):\n",
    "    try:\n",
    "        employee_name = employee_name.lower()\n",
    "        return staff_dict[employee_name]\n",
    "    except KeyError:\n",
    "        print(f\"No record found for {employee_name}\")\n",
    "        return None"
   ]
  },
  {
   "cell_type": "code",
   "execution_count": 4,
   "id": "6e503900",
   "metadata": {},
   "outputs": [],
   "source": [
    "#Exporting Employee Details\n",
    "def export_employee(employee_name):\n",
    "    details = fetch_employees(employee_name)\n",
    "    if (len(details) == 0):\n",
    "        print(\"No record found\")\n",
    "        return None\n",
    "\n",
    "# convert to a Table\n",
    "    export_df = pd.DataFrame(details)\n",
    "    export_dir = \"Employee Profile\"\n",
    "\n",
    "#Create a Folder\n",
    "    os.makedirs(export_dir, exist_ok=True)\n",
    "    csv_dir_name = os.path.join(\n",
    "        export_dir, f\"{employee_name.replace(\" \", \"_\")}_details.csv\")\n",
    "\n",
    "#Export data to CSV\n",
    "    export_df.to_csv(csv_dir_name, index=False)\n",
    "\n",
    "#Zip folder\n",
    "    zip_path = f\"{export_dir}.zip\"\n",
    "    shutil.make_archive(export_dir, 'zip', export_dir)\n",
    "\n",
    "#Clean the folder \n",
    "    shutil.rmtree(export_dir)\n",
    "\n",
    "    return zip_path"
   ]
  },
  {
   "cell_type": "code",
   "execution_count": 5,
   "id": "7783a017",
   "metadata": {},
   "outputs": [
    {
     "data": {
      "text/plain": [
       "'Employee Profile.zip'"
      ]
     },
     "execution_count": 5,
     "metadata": {},
     "output_type": "execute_result"
    }
   ],
   "source": [
    "export_employee(\"Damon  Wilson\")"
   ]
  }
 ],
 "metadata": {
  "kernelspec": {
   "display_name": ".venv",
   "language": "python",
   "name": "python3"
  },
  "language_info": {
   "codemirror_mode": {
    "name": "ipython",
    "version": 3
   },
   "file_extension": ".py",
   "mimetype": "text/x-python",
   "name": "python",
   "nbconvert_exporter": "python",
   "pygments_lexer": "ipython3",
   "version": "3.13.2"
  }
 },
 "nbformat": 4,
 "nbformat_minor": 5
}
